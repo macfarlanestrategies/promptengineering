{
  "nbformat": 4,
  "nbformat_minor": 0,
  "metadata": {
    "colab": {
      "provenance": [],
      "authorship_tag": "ABX9TyOlB+ElbDPTd5Lu/oXscAim",
      "include_colab_link": true
    },
    "kernelspec": {
      "name": "ir",
      "display_name": "R"
    },
    "language_info": {
      "name": "R"
    },
    "accelerator": "GPU",
    "gpuClass": "standard"
  },
  "cells": [
    {
      "cell_type": "markdown",
      "metadata": {
        "id": "view-in-github",
        "colab_type": "text"
      },
      "source": [
        "<a href=\"https://colab.research.google.com/github/macfarlanestrategies/promptengineering/blob/main/keras_tutorial_R.ipynb\" target=\"_parent\"><img src=\"https://colab.research.google.com/assets/colab-badge.svg\" alt=\"Open In Colab\"/></a>"
      ]
    },
    {
      "cell_type": "code",
      "execution_count": 1,
      "metadata": {
        "colab": {
          "base_uri": "https://localhost:8080/"
        },
        "id": "C7xV-eWU-0lA",
        "outputId": "f8a1c712-d0b0-4326-cd86-a8e50cc38cb1"
      },
      "outputs": [
        {
          "output_type": "stream",
          "name": "stderr",
          "text": [
            "Warning message in system(\"timedatectl\", intern = TRUE):\n",
            "“running command 'timedatectl' had status 1”\n",
            "── \u001b[1mAttaching packages\u001b[22m ─────────────────────────────────────── tidyverse 1.3.1 ──\n",
            "\n",
            "\u001b[32m✔\u001b[39m \u001b[34mggplot2\u001b[39m 3.3.6      \u001b[32m✔\u001b[39m \u001b[34mpurrr  \u001b[39m 0.3.4 \n",
            "\u001b[32m✔\u001b[39m \u001b[34mtibble \u001b[39m 3.1.7      \u001b[32m✔\u001b[39m \u001b[34mdplyr  \u001b[39m 1.0.10\n",
            "\u001b[32m✔\u001b[39m \u001b[34mtidyr  \u001b[39m 1.2.1      \u001b[32m✔\u001b[39m \u001b[34mstringr\u001b[39m 1.4.1 \n",
            "\u001b[32m✔\u001b[39m \u001b[34mreadr  \u001b[39m 2.1.3      \u001b[32m✔\u001b[39m \u001b[34mforcats\u001b[39m 0.5.2 \n",
            "\n",
            "── \u001b[1mConflicts\u001b[22m ────────────────────────────────────────── tidyverse_conflicts() ──\n",
            "\u001b[31m✖\u001b[39m \u001b[34mdplyr\u001b[39m::\u001b[32mfilter()\u001b[39m masks \u001b[34mstats\u001b[39m::filter()\n",
            "\u001b[31m✖\u001b[39m \u001b[34mdplyr\u001b[39m::\u001b[32mlag()\u001b[39m    masks \u001b[34mstats\u001b[39m::lag()\n",
            "\n"
          ]
        }
      ],
      "source": [
        "library(tidyverse)"
      ]
    },
    {
      "cell_type": "code",
      "source": [
        "install.packages(\"keras\")"
      ],
      "metadata": {
        "colab": {
          "base_uri": "https://localhost:8080/"
        },
        "id": "tcWQqQQy-7OT",
        "outputId": "4f06dd28-1d00-413d-8232-ce12b103066a"
      },
      "execution_count": 2,
      "outputs": [
        {
          "output_type": "stream",
          "name": "stderr",
          "text": [
            "Installing package into ‘/usr/local/lib/R/site-library’\n",
            "(as ‘lib’ is unspecified)\n",
            "\n",
            "also installing the dependencies ‘Rcpp’, ‘RcppTOML’, ‘here’, ‘png’, ‘config’, ‘tfautograph’, ‘reticulate’, ‘tensorflow’, ‘tfruns’, ‘zeallot’\n",
            "\n",
            "\n"
          ]
        }
      ]
    },
    {
      "cell_type": "code",
      "source": [
        "library(keras)"
      ],
      "metadata": {
        "id": "vYy9F0hL-_qb"
      },
      "execution_count": 3,
      "outputs": []
    },
    {
      "cell_type": "code",
      "source": [
        "mnist <- dataset_mnist()\n",
        "train_images <- mnist$train$x\n",
        "train_labels <- mnist$train$y\n",
        "\n",
        "test_images <- mnist$test$x\n",
        "test_labels <- mnist$test$y"
      ],
      "metadata": {
        "colab": {
          "base_uri": "https://localhost:8080/"
        },
        "id": "Sqe7efbW_Jul",
        "outputId": "da174dbd-da21-4a58-99e9-96cb28d21833"
      },
      "execution_count": 6,
      "outputs": [
        {
          "output_type": "stream",
          "name": "stderr",
          "text": [
            "Loaded Tensorflow version 2.8.2\n",
            "\n"
          ]
        }
      ]
    },
    {
      "cell_type": "code",
      "source": [
        "str(train_images)\n",
        "str(train_labels)"
      ],
      "metadata": {
        "id": "mSX6V17uANTn",
        "outputId": "c94a1150-9910-40d3-c37e-baa9c7af7d2c",
        "colab": {
          "base_uri": "https://localhost:8080/"
        }
      },
      "execution_count": 7,
      "outputs": [
        {
          "output_type": "stream",
          "name": "stdout",
          "text": [
            " int [1:60000, 1:28, 1:28] 0 0 0 0 0 0 0 0 0 0 ...\n",
            " int [1:60000(1d)] 5 0 4 1 9 2 1 3 1 4 ...\n"
          ]
        }
      ]
    },
    {
      "cell_type": "code",
      "source": [
        "network <- keras_model_sequential() %>%\n",
        "  layer_dense(units=512, activation = 'relu', input_shape = c(28*28)) %>%\n",
        "  layer_dense(units = 10, activation = 'softmax')"
      ],
      "metadata": {
        "id": "gtjSBz11CD5f"
      },
      "execution_count": 8,
      "outputs": []
    },
    {
      "cell_type": "code",
      "source": [
        "network %>%\n",
        "  compile(\n",
        "    optimizer = 'adam',\n",
        "    loss='categorical_crossentropy',\n",
        "    metrics=c('accuracy')\n",
        "  )"
      ],
      "metadata": {
        "id": "3byNwvvLCQiA"
      },
      "execution_count": 9,
      "outputs": []
    },
    {
      "cell_type": "code",
      "source": [
        "train_images <- array_reshape(train_images, c(60000, 28 * 28))\n",
        "train_images <- train_images / 255\n",
        "\n",
        "test_images <- array_reshape(test_images, c(10000, 28 * 28))\n",
        "test_images <- test_images / 255"
      ],
      "metadata": {
        "id": "71FgQQXHCZSp"
      },
      "execution_count": 10,
      "outputs": []
    },
    {
      "cell_type": "code",
      "source": [
        "train_labels <- to_categorical(train_labels)\n",
        "test_labels <- to_categorical(test_labels)"
      ],
      "metadata": {
        "id": "A0fGU0UMCoDB"
      },
      "execution_count": 11,
      "outputs": []
    },
    {
      "cell_type": "code",
      "source": [
        "network %>%\n",
        "  fit(train_images, train_labels, epochs = 5, batch_size=128)"
      ],
      "metadata": {
        "id": "nWGgyAWZCvCl"
      },
      "execution_count": 12,
      "outputs": []
    },
    {
      "cell_type": "code",
      "source": [
        "metrics <- network %>% evaluate(test_images, test_labels)"
      ],
      "metadata": {
        "id": "LN5X3yyoC03f"
      },
      "execution_count": 17,
      "outputs": []
    },
    {
      "cell_type": "code",
      "source": [
        "metrics"
      ],
      "metadata": {
        "id": "YB73WBMxC6mY",
        "outputId": "9c2dca24-75cb-47db-f995-6e94b64b9b6b",
        "colab": {
          "base_uri": "https://localhost:8080/",
          "height": 34
        }
      },
      "execution_count": 18,
      "outputs": [
        {
          "output_type": "display_data",
          "data": {
            "text/html": [
              "<style>\n",
              ".dl-inline {width: auto; margin:0; padding: 0}\n",
              ".dl-inline>dt, .dl-inline>dd {float: none; width: auto; display: inline-block}\n",
              ".dl-inline>dt::after {content: \":\\0020\"; padding-right: .5ex}\n",
              ".dl-inline>dt:not(:first-of-type) {padding-left: .5ex}\n",
              "</style><dl class=dl-inline><dt>loss</dt><dd>0.074392095208168</dd><dt>accuracy</dt><dd>0.976700007915497</dd></dl>\n"
            ],
            "text/markdown": "loss\n:   0.074392095208168accuracy\n:   0.976700007915497\n\n",
            "text/latex": "\\begin{description*}\n\\item[loss] 0.074392095208168\n\\item[accuracy] 0.976700007915497\n\\end{description*}\n",
            "text/plain": [
              "     loss  accuracy \n",
              "0.0743921 0.9767000 "
            ]
          },
          "metadata": {}
        }
      ]
    },
    {
      "cell_type": "code",
      "source": [],
      "metadata": {
        "id": "TNGdoU9iC7OH"
      },
      "execution_count": 19,
      "outputs": []
    },
    {
      "cell_type": "code",
      "source": [],
      "metadata": {
        "id": "8QTo9AYFC9A1"
      },
      "execution_count": null,
      "outputs": []
    }
  ]
}